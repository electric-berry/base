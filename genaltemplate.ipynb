{
 "cells": [
  {
   "cell_type": "code",
   "execution_count": 1,
   "metadata": {
    "ExecuteTime": {
     "end_time": "2020-08-16T23:39:17.179263Z",
     "start_time": "2020-08-16T23:36:33.381032Z"
    }
   },
   "outputs": [
    {
     "name": "stdout",
     "output_type": "stream",
     "text": [
      "Generation 31 :\n",
      "Loss: 0.00015570155014334194\n",
      "Generation 32 :\n",
      "Loss: 0.00014946925398669707\n",
      "Threshold met at generation 32 !\n"
     ]
    },
    {
     "data": {
      "text/plain": [
       "array([[0.00485427],\n",
       "       [0.9928705 ],\n",
       "       [0.99210608],\n",
       "       [0.00357235]])"
      ]
     },
     "execution_count": 1,
     "metadata": {},
     "output_type": "execute_result"
    }
   ],
   "source": [
    "import random\n",
    "import numpy as np\n",
    "from IPython.display import clear_output\n",
    "\n",
    "def sigmoid(x):\n",
    "    return 1/(1+np.exp(-x))\n",
    "\n",
    "class genetic_algorithm:\n",
    "        \n",
    "    def execute(pop_size,generations,threshold,X,y,network):\n",
    "        class Agent:\n",
    "            def __init__(self,network):\n",
    "                class neural_network:\n",
    "                    def __init__(self,network):\n",
    "                        self.weights = []\n",
    "                        self.activations = []\n",
    "                        for layer in network:\n",
    "                            if layer[0] != None:\n",
    "                                input_size = layer[0]\n",
    "                            else:\n",
    "                                input_size = network[network.index(layer)-1][1]\n",
    "                            output_size = layer[1]\n",
    "                            activation = layer[2]\n",
    "                            self.weights.append(np.random.randn(input_size,output_size))\n",
    "                            self.activations.append(activation)\n",
    "                    def propagate(self,data):\n",
    "                        input_data = data\n",
    "                        for i in range(len(self.weights)):\n",
    "                            z = np.dot(input_data,self.weights[i])\n",
    "                            a = self.activations[i](z)\n",
    "                            input_data = a\n",
    "                        yhat = a\n",
    "                        return yhat\n",
    "                self.neural_network = neural_network(network)\n",
    "                self.fitness = 0\n",
    "            def __str__(self):\n",
    "                    return 'Loss: ' + str(self.fitness[0])\n",
    "                \n",
    "        \n",
    "                \n",
    "        def generate_agents(population, network):\n",
    "            return [Agent(network) for _ in range(population)]\n",
    "        \n",
    "        def fitness(agents,X,y):\n",
    "            for agent in agents:\n",
    "                yhat = agent.neural_network.propagate(X)\n",
    "                cost = (yhat - y)**2\n",
    "                agent.fitness = sum(cost)\n",
    "            return agents\n",
    "        \n",
    "        def selection(agents):\n",
    "            agents = sorted(agents, key=lambda agent: agent.fitness, reverse=False)\n",
    "            # print('\\n'.join(map(str, agents)))\n",
    "            agents = agents[:int(0.2 * len(agents))]\n",
    "            return agents\n",
    "        \n",
    "        def unflatten(flattened,shapes):\n",
    "            newarray = []\n",
    "            index = 0\n",
    "            for shape in shapes:\n",
    "                size = np.product(shape)\n",
    "                newarray.append(flattened[index : index + size].reshape(shape))\n",
    "                index += size\n",
    "            return newarray\n",
    "        \n",
    "        def crossover(agents,network,pop_size):\n",
    "            offspring = []\n",
    "            for _ in range((pop_size - len(agents)) // 2):\n",
    "                parent1 = random.choice(agents)\n",
    "                parent2 = random.choice(agents)\n",
    "                child1 = Agent(network)\n",
    "                child2 = Agent(network)\n",
    "                \n",
    "                shapes = [a.shape for a in parent1.neural_network.weights]\n",
    "                \n",
    "                genes1 = np.concatenate([a.flatten() for a in parent1.neural_network.weights])\n",
    "                genes2 = np.concatenate([a.flatten() for a in parent2.neural_network.weights])\n",
    "                \n",
    "                split = random.randint(0,len(genes1)-1)\n",
    "\n",
    "                child1_genes = np.array(genes1[0:split].tolist() + genes2[split:].tolist())\n",
    "                child2_genes = np.array(genes1[0:split].tolist() + genes2[split:].tolist())\n",
    "                \n",
    "                child1.neural_network.weights = unflatten(child1_genes,shapes)\n",
    "                child2.neural_network.weights = unflatten(child2_genes,shapes)\n",
    "                \n",
    "                offspring.append(child1)\n",
    "                offspring.append(child2)\n",
    "            agents.extend(offspring)\n",
    "            return agents\n",
    "        \n",
    "        def mutation(agents):\n",
    "            for agent in agents:\n",
    "                if random.uniform(0.0, 1.0) <= 0.1:\n",
    "                    weights = agent.neural_network.weights\n",
    "                    shapes = [a.shape for a in weights]\n",
    "\n",
    "                    flattened = np.concatenate([a.flatten() for a in weights])\n",
    "                    randint = random.randint(0,len(flattened)-1)\n",
    "                    flattened[randint] = np.random.randn()\n",
    "\n",
    "                    newarray = []\n",
    "                    indeweights = 0\n",
    "                    for shape in shapes:\n",
    "                        size = np.product(shape)\n",
    "                        newarray.append(flattened[indeweights : indeweights + size].reshape(shape))\n",
    "                        indeweights += size\n",
    "                    agent.neural_network.weights = newarray\n",
    "            return agents\n",
    "        \n",
    "        agents = generate_agents(pop_size,network)\n",
    "        for i in range(generations):\n",
    "            print('Generation',str(i),':')\n",
    "            agents = fitness(agents,X,y)\n",
    "            agents = selection(agents)\n",
    "            # print(len(agents))\n",
    "            agents = crossover(agents,network,pop_size)\n",
    "            agents = mutation(agents)\n",
    "            agents = fitness(agents,X,y)\n",
    "            print(agents[0])\n",
    "            # print(len(agents))\n",
    "            \n",
    "            \n",
    "            if any(agent.fitness < threshold for agent in agents):\n",
    "                print('Threshold met at generation '+str(i)+' !')\n",
    "                break\n",
    "                \n",
    "            if i % 5 == 0:\n",
    "                clear_output()\n",
    "                \n",
    "        return agents[0]\n",
    "                \n",
    "X = np.array([[0, 0, 1], [1, 1, 1], [1, 0, 1], [0, 1, 1]])\n",
    "y = np.array([[0, 1, 1, 0]]).T\n",
    "network = [[3,10,sigmoid],[None,1,sigmoid]]\n",
    "ga = genetic_algorithm\n",
    "agent = ga.execute(10000,1000,0.0001,X,y,network)\n",
    "weights = agent.neural_network.weights\n",
    "agent.fitness\n",
    "agent.neural_network.propagate(X)"
   ]
  },
  {
   "cell_type": "code",
   "execution_count": null,
   "metadata": {
    "ExecuteTime": {
     "end_time": "2020-06-05T11:10:21.090417Z",
     "start_time": "2020-06-05T11:10:21.077906Z"
    }
   },
   "outputs": [],
   "source": [
    "brain_clone = agent.neural_network\n",
    "brain_clone.weights"
   ]
  },
  {
   "cell_type": "code",
   "execution_count": null,
   "metadata": {},
   "outputs": [],
   "source": []
  }
 ],
 "metadata": {
  "hide_input": false,
  "kernelspec": {
   "display_name": "base",
   "language": "python",
   "name": "python3"
  },
  "language_info": {
   "codemirror_mode": {
    "name": "ipython",
    "version": 3
   },
   "file_extension": ".py",
   "mimetype": "text/x-python",
   "name": "python",
   "nbconvert_exporter": "python",
   "pygments_lexer": "ipython3",
   "version": "3.8.15"
  },
  "toc": {
   "base_numbering": 1,
   "nav_menu": {},
   "number_sections": true,
   "sideBar": true,
   "skip_h1_title": false,
   "title_cell": "Table of Contents",
   "title_sidebar": "Contents",
   "toc_cell": false,
   "toc_position": {},
   "toc_section_display": true,
   "toc_window_display": false
  },
  "varInspector": {
   "cols": {
    "lenName": 16,
    "lenType": 16,
    "lenVar": 40
   },
   "kernels_config": {
    "python": {
     "delete_cmd_postfix": "",
     "delete_cmd_prefix": "del ",
     "library": "var_list.py",
     "varRefreshCmd": "print(var_dic_list())"
    },
    "r": {
     "delete_cmd_postfix": ") ",
     "delete_cmd_prefix": "rm(",
     "library": "var_list.r",
     "varRefreshCmd": "cat(var_dic_list()) "
    }
   },
   "types_to_exclude": [
    "module",
    "function",
    "builtin_function_or_method",
    "instance",
    "_Feature"
   ],
   "window_display": false
  },
  "vscode": {
   "interpreter": {
    "hash": "62ca328bea2807fdbcf0772dec5911af88ca03e1e8ae5bac692e27b455f5f738"
   }
  }
 },
 "nbformat": 4,
 "nbformat_minor": 4
}
